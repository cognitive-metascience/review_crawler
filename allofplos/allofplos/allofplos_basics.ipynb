{
 "cells": [
  {
   "cell_type": "markdown",
   "metadata": {
    "slideshow": {
     "slide_type": "slide"
    }
   },
   "source": [
    "# Examples of basic allofplos functions"
   ]
  },
  {
   "cell_type": "code",
   "execution_count": null,
   "metadata": {
    "code_folding": [],
    "collapsed": true,
    "slideshow": {
     "slide_type": "skip"
    }
   },
   "outputs": [],
   "source": [
    "import datetime\n",
    "from allofplos.plos_regex import (validate_doi, show_invalid_dois, find_valid_dois)\n",
    "from allofplos.samples.corpus_analysis import (get_random_list_of_dois, get_all_local_dois,\n",
    "                                               get_all_plos_dois)\n",
    "from allofplos.corpus.plos_corpus import (get_uncorrected_proofs, get_all_solr_dois)\n",
    "from allofplos import Article"
   ]
  },
  {
   "cell_type": "markdown",
   "metadata": {
    "slideshow": {
     "slide_type": "slide"
    }
   },
   "source": [
    "## Get example DOIs: get_random_list_of_dois()"
   ]
  },
  {
   "cell_type": "code",
   "execution_count": null,
   "metadata": {
    "slideshow": {
     "slide_type": "slide"
    }
   },
   "outputs": [
    {
     "name": "stdout",
     "output_type": "stream",
     "text": [
      "Three ways to represent an article\n",
      "Article as DOI: 10.1371/journal.pone.0088313\n",
      "Article as local file: allofplos_xml/journal.pone.0088313.xml\n",
      "Article as url: https://journals.plos.org/plosone/article/file?id=10.1371/journal.pone.0088313&type=manuscript\n"
     ]
    }
   ],
   "source": [
    "example_dois = get_random_list_of_dois(count=10)\n",
    "example_doi = example_dois[0]\n",
    "article = Article(example_doi)\n",
    "example_file = article.filepath\n",
    "example_url = article.url\n",
    "print(\"Three ways to represent an article\\nArticle as DOI: {}\\nArticle as local file: {}\\nArticle as url: {}\" \\\n",
    "       .format(example_doi, example_file, example_url))"
   ]
  },
  {
   "cell_type": "code",
   "execution_count": null,
   "metadata": {
    "collapsed": true,
    "slideshow": {
     "slide_type": "slide"
    }
   },
   "outputs": [],
   "source": [
    "example_corrections_dois = ['10.1371/journal.pone.0166537',\n",
    "                            '10.1371/journal.ppat.1005301',\n",
    "                            '10.1371/journal.pone.0100397']"
   ]
  },
  {
   "cell_type": "code",
   "execution_count": null,
   "metadata": {
    "code_folding": [],
    "collapsed": true
   },
   "outputs": [],
   "source": [
    "example_retractions_dois = ['10.1371/journal.pone.0180272',\n",
    "                            '10.1371/journal.pone.0155388',\n",
    "                            '10.1371/journal.pone.0102411']"
   ]
  },
  {
   "cell_type": "code",
   "execution_count": null,
   "metadata": {
    "collapsed": true
   },
   "outputs": [],
   "source": [
    "example_vor_doi = '10.1371/journal.ppat.1006307'\n",
    "example_uncorrected_proofs = get_uncorrected_proofs()"
   ]
  },
  {
   "cell_type": "markdown",
   "metadata": {},
   "source": [
    "## Validate PLOS DOI format: validate.doi(string), show_invalid_dois(list)"
   ]
  },
  {
   "cell_type": "code",
   "execution_count": null,
   "metadata": {
    "collapsed": true,
    "scrolled": true
   },
   "outputs": [],
   "source": [
    "validate_doi('10.1371/journal.pbio.2000797')"
   ]
  },
  {
   "cell_type": "code",
   "execution_count": null,
   "metadata": {
    "collapsed": true
   },
   "outputs": [],
   "source": [
    "validate_doi('10.1371/journal.pone.12345678')  # too many trailing digits"
   ]
  },
  {
   "cell_type": "code",
   "execution_count": null,
   "metadata": {
    "collapsed": true
   },
   "outputs": [],
   "source": [
    "doi_list = ['10.1371/journal.pbio.2000797', '10.1371/journal.pone.12345678', '10.1371/journal.pmed.1234567']\n",
    "show_invalid_dois(doi_list)"
   ]
  },
  {
   "cell_type": "markdown",
   "metadata": {},
   "source": [
    "## Check if a DOI resolves correctly: article.check_if_doi_resolves()"
   ]
  },
  {
   "cell_type": "code",
   "execution_count": null,
   "metadata": {
    "collapsed": true
   },
   "outputs": [],
   "source": [
    "article = Article('10.1371/journal.pbio.2000797')  # working DOI\n",
    "article.check_if_doi_resolves()"
   ]
  },
  {
   "cell_type": "code",
   "execution_count": null,
   "metadata": {
    "collapsed": true
   },
   "outputs": [],
   "source": [
    "article = Article('10.1371/annotation/b8b66a84-4919-4a3e-ba3e-bb11f3853755')   # working DOI\n",
    "article.check_if_doi_resolves()"
   ]
  },
  {
   "cell_type": "code",
   "execution_count": null,
   "metadata": {
    "collapsed": true
   },
   "outputs": [],
   "source": [
    "article = Article('10.1371/journal.pone.1111111')  # valid DOI structure, but article doesn't exist\n",
    "article.check_if_doi_resolves()"
   ]
  },
  {
   "cell_type": "markdown",
   "metadata": {},
   "source": [
    "## Check if uncorrected proof: article.proof"
   ]
  },
  {
   "cell_type": "code",
   "execution_count": null,
   "metadata": {
    "collapsed": true
   },
   "outputs": [],
   "source": [
    "article = Article(next(iter(example_uncorrected_proofs)))\n",
    "article.proof"
   ]
  },
  {
   "cell_type": "code",
   "execution_count": null,
   "metadata": {
    "collapsed": true
   },
   "outputs": [],
   "source": [
    "article = Article(example_vor_doi)\n",
    "article.proof"
   ]
  },
  {
   "cell_type": "markdown",
   "metadata": {},
   "source": [
    "## Find PLOS DOIs in a string: find_valid_dois(string)"
   ]
  },
  {
   "cell_type": "code",
   "execution_count": null,
   "metadata": {
    "collapsed": true
   },
   "outputs": [],
   "source": [
    "find_valid_dois(\"ever seen 10.1371/journal.pbio.2000797, it's great! or maybe 10.1371/journal.pone.1234567?\")"
   ]
  },
  {
   "cell_type": "markdown",
   "metadata": {},
   "source": [
    "## Get article pubdate: article.pubdate"
   ]
  },
  {
   "cell_type": "code",
   "execution_count": null,
   "metadata": {
    "collapsed": true
   },
   "outputs": [],
   "source": [
    "# returns a datetime object\n",
    "article = Article(example_doi)\n",
    "article.pubdate"
   ]
  },
  {
   "cell_type": "code",
   "execution_count": null,
   "metadata": {
    "collapsed": true,
    "scrolled": true
   },
   "outputs": [],
   "source": [
    "# datetime object can be transformed into any string format\n",
    "article = Article(example_doi)\n",
    "dates = article.get_dates(string_=True, string_format='%Y-%b-%d')\n",
    "print(dates['epub'])"
   ]
  },
  {
   "cell_type": "markdown",
   "metadata": {},
   "source": [
    "## Check (JATS) article type of article file: article.type_"
   ]
  },
  {
   "cell_type": "code",
   "execution_count": null,
   "metadata": {},
   "outputs": [
    {
     "data": {
      "text/plain": [
       "[{'affiliations': ['Department of Psychology, Elmhurst College, Elmhurst, Illinois, United States of America'],\n",
       "  'author_roles': {'author_notes': ['Conceived and designed the experiments',\n",
       "    'Performed the experiments',\n",
       "    'Analyzed the data',\n",
       "    'Contributed reagents/materials/analysis tools',\n",
       "    'Wrote the paper']},\n",
       "  'author_type': 'corresponding',\n",
       "  'contrib_initials': 'KSM',\n",
       "  'contrib_type': 'author',\n",
       "  'editor_type': None,\n",
       "  'email': ['katherine.moore@elmhurst.edu'],\n",
       "  'footnotes': [],\n",
       "  'given_names': 'Katherine Sledge',\n",
       "  'group_name': None,\n",
       "  'ids': [],\n",
       "  'rid_dict': {'aff': ['aff1'], 'corresp': ['cor1']},\n",
       "  'surname': 'Moore'},\n",
       " {'affiliations': ['Department of Psychology, University of Michigan, Ann Arbor, Michigan, United States of America'],\n",
       "  'author_roles': {'author_notes': ['Conceived and designed the experiments',\n",
       "    'Wrote the paper']},\n",
       "  'author_type': 'contributing',\n",
       "  'contrib_initials': 'DHW',\n",
       "  'contrib_type': 'author',\n",
       "  'editor_type': None,\n",
       "  'email': None,\n",
       "  'footnotes': [],\n",
       "  'given_names': 'Daniel H.',\n",
       "  'group_name': None,\n",
       "  'ids': [],\n",
       "  'rid_dict': {'aff': ['aff2']},\n",
       "  'surname': 'Weissman'}]"
      ]
     },
     "execution_count": 5,
     "metadata": {},
     "output_type": "execute_result"
    }
   ],
   "source": [
    "article = Article(example_doi)\n",
    "article.authors"
   ]
  },
  {
   "cell_type": "code",
   "execution_count": null,
   "metadata": {
    "collapsed": true
   },
   "outputs": [],
   "source": [
    "article = Article(example_corrections_dois[0])\n",
    "article.type_"
   ]
  },
  {
   "cell_type": "code",
   "execution_count": null,
   "metadata": {
    "collapsed": true
   },
   "outputs": [],
   "source": [
    "article = Article(example_retractions_dois[0])\n",
    "article.type_"
   ]
  },
  {
   "cell_type": "markdown",
   "metadata": {},
   "source": [
    "## Get related DOIs: article.related_dois\n",
    "For corrections and retractions, get the DOI(s) of the PLOS articles being retracted or corrected."
   ]
  },
  {
   "cell_type": "code",
   "execution_count": null,
   "metadata": {
    "collapsed": true
   },
   "outputs": [],
   "source": [
    "article = Article(example_corrections_dois[0])\n",
    "article.related_dois"
   ]
  },
  {
   "cell_type": "code",
   "execution_count": null,
   "metadata": {
    "collapsed": true
   },
   "outputs": [],
   "source": [
    "article = Article(example_retractions_dois[0])\n",
    "article.related_dois"
   ]
  },
  {
   "cell_type": "markdown",
   "metadata": {},
   "source": [
    "# Working with many articles at once"
   ]
  },
  {
   "cell_type": "markdown",
   "metadata": {},
   "source": [
    "## Get list of every article DOI indexed on the PLOS search API, Solr: get_all_solr_dois()"
   ]
  },
  {
   "cell_type": "code",
   "execution_count": null,
   "metadata": {
    "collapsed": true
   },
   "outputs": [],
   "source": [
    "solr_dois = get_all_solr_dois()\n",
    "print(len(solr_dois), \"articles indexed on Solr.\")"
   ]
  },
  {
   "cell_type": "markdown",
   "metadata": {},
   "source": [
    "## Get list of every PLOS article you have downloaded: get_all_local_dois()"
   ]
  },
  {
   "cell_type": "code",
   "execution_count": null,
   "metadata": {
    "collapsed": true
   },
   "outputs": [],
   "source": [
    "all_articles = get_all_local_dois()\n",
    "print(len(all_articles), \"articles on local computer.\")"
   ]
  },
  {
   "cell_type": "markdown",
   "metadata": {},
   "source": [
    "## Combine local and solr articles: get_all_plos_dois()"
   ]
  },
  {
   "cell_type": "code",
   "execution_count": null,
   "metadata": {
    "collapsed": true
   },
   "outputs": [],
   "source": [
    "plos_articles = get_all_plos_dois()"
   ]
  },
  {
   "cell_type": "code",
   "execution_count": null,
   "metadata": {
    "collapsed": true
   },
   "outputs": [],
   "source": [
    "download_updated_xml('allofplos_xml/journal.pcbi.0030158.xml')"
   ]
  }
 ],
 "metadata": {
  "celltoolbar": "Slideshow",
  "kernelspec": {
   "display_name": "Python 3",
   "language": "python",
   "name": "python3"
  },
  "language_info": {
   "codemirror_mode": {
    "name": "ipython",
    "version": 3
   },
   "file_extension": ".py",
   "mimetype": "text/x-python",
   "name": "python",
   "nbconvert_exporter": "python",
   "pygments_lexer": "ipython3",
   "version": "3.6.6"
  },
  "toc": {
   "colors": {
    "hover_highlight": "#DAA520",
    "navigate_num": "#000000",
    "navigate_text": "#333333",
    "running_highlight": "#FF0000",
    "selected_highlight": "#FFD700",
    "sidebar_border": "#EEEEEE",
    "wrapper_background": "#FFFFFF"
   },
   "moveMenuLeft": true,
   "nav_menu": {},
   "navigate_menu": true,
   "number_sections": true,
   "sideBar": true,
   "skip_h1_title": false,
   "threshold": 4,
   "toc_cell": false,
   "toc_position": {},
   "toc_section_display": "block",
   "toc_window_display": false,
   "widenNotebook": false
  }
 },
 "nbformat": 4,
 "nbformat_minor": 2
}
