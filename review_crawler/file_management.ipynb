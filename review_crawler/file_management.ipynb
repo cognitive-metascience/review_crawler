{
 "cells": [
  {
   "cell_type": "code",
   "execution_count": 1,
   "metadata": {},
   "outputs": [],
   "source": [
    "import os\n",
    "import pandas as pd\n",
    "import json\n",
    "import shutil"
   ]
  },
  {
   "cell_type": "code",
   "execution_count": 2,
   "metadata": {},
   "outputs": [],
   "source": [
    "# warning: this Jupyter notebook uses only Windows-style paths.\n",
    "a_dir = 'output/mdpi/' # change to plos/elife/mdpi to see others\n",
    "r_dir = a_dir + \"reviewed/\"\n"
   ]
  },
  {
   "cell_type": "code",
   "execution_count": 22,
   "metadata": {},
   "outputs": [],
   "source": [
    "arts = pd.DataFrame({'doi': os.listdir(a_dir)})\n"
   ]
  },
  {
   "cell_type": "code",
   "execution_count": 3,
   "metadata": {},
   "outputs": [],
   "source": [
    "rarts = pd.DataFrame({'doi': os.listdir(r_dir)})"
   ]
  },
  {
   "cell_type": "code",
   "execution_count": 24,
   "metadata": {},
   "outputs": [
    {
     "data": {
      "text/plain": [
       "(607745, 37756)"
      ]
     },
     "execution_count": 24,
     "metadata": {},
     "output_type": "execute_result"
    }
   ],
   "source": [
    "len(arts), len(rarts)"
   ]
  },
  {
   "cell_type": "code",
   "execution_count": 4,
   "metadata": {},
   "outputs": [],
   "source": [
    "rarts = rarts[rarts.doi.map(lambda x: os.path.isdir(r_dir + x))]\n"
   ]
  },
  {
   "cell_type": "code",
   "execution_count": 25,
   "metadata": {},
   "outputs": [
    {
     "data": {
      "text/plain": [
       "(607743, 37755)"
      ]
     },
     "execution_count": 25,
     "metadata": {},
     "output_type": "execute_result"
    }
   ],
   "source": [
    "arts = arts.loc[arts.doi.map(lambda x: os.path.isdir(a_dir + x))]\n",
    "len(arts), len(rarts)"
   ]
  },
  {
   "cell_type": "code",
   "execution_count": 5,
   "metadata": {},
   "outputs": [],
   "source": [
    "rarts['path'] = r_dir + rarts.doi\n"
   ]
  },
  {
   "cell_type": "code",
   "execution_count": 26,
   "metadata": {},
   "outputs": [],
   "source": [
    "arts['path'] = a_dir + arts.doi\n",
    "arts = arts[arts.path.map(lambda x: not x.endswith(\"reviewed\"))]"
   ]
  },
  {
   "cell_type": "code",
   "execution_count": 27,
   "metadata": {},
   "outputs": [],
   "source": [
    "def getj(a):\n",
    "    path = os.path.join(a, \"metadata.json\")\n",
    "    if not os.path.exists(path):\n",
    "        print(\"no meta for a =\", a)\n",
    "        return pd.NA\n",
    "    fp = open(path, encoding='utf-8')\n",
    "    j = json.load(fp)\n",
    "    fp.close()\n",
    "    return j\n"
   ]
  },
  {
   "cell_type": "code",
   "execution_count": 28,
   "metadata": {},
   "outputs": [],
   "source": [
    "arts['meta'] = arts.path.map(getj)\n",
    "rarts['meta'] = rarts.path.map(getj)"
   ]
  },
  {
   "cell_type": "code",
   "execution_count": 29,
   "metadata": {},
   "outputs": [
    {
     "data": {
      "text/plain": [
       "(114062, '<- unfortunate...')"
      ]
     },
     "execution_count": 29,
     "metadata": {},
     "output_type": "execute_result"
    }
   ],
   "source": [
    "arts['has_r'] = arts.meta.map(lambda a: a['has_reviews'])\n",
    "sum(arts.has_r), \"<- unfortunate...\""
   ]
  },
  {
   "cell_type": "code",
   "execution_count": 30,
   "metadata": {},
   "outputs": [],
   "source": [
    "# arts['has_suba'] = arts.path.map(lambda p: os.path.exists(p+\"/sub-articles\"))"
   ]
  },
  {
   "cell_type": "code",
   "execution_count": 31,
   "metadata": {},
   "outputs": [],
   "source": [
    "# sum(arts.has_suba), len(arts)"
   ]
  },
  {
   "cell_type": "code",
   "execution_count": 8,
   "metadata": {},
   "outputs": [],
   "source": [
    "rarts['has_suba'] = rarts.path.map(lambda p: os.path.exists(p+\"/sub-articles\"))"
   ]
  },
  {
   "cell_type": "code",
   "execution_count": 10,
   "metadata": {},
   "outputs": [
    {
     "data": {
      "text/plain": [
       "(90066, 151817)"
      ]
     },
     "execution_count": 10,
     "metadata": {},
     "output_type": "execute_result"
    }
   ],
   "source": [
    "sum(rarts.has_suba), len(rarts)"
   ]
  },
  {
   "cell_type": "code",
   "execution_count": 34,
   "metadata": {},
   "outputs": [],
   "source": [
    "import shutil"
   ]
  },
  {
   "cell_type": "markdown",
   "metadata": {},
   "source": [
    "##"
   ]
  },
  {
   "cell_type": "code",
   "execution_count": 35,
   "metadata": {},
   "outputs": [],
   "source": [
    "r_count = 0\n",
    "has_r_count = 0\n",
    "for rart in os.listdir(r_dir):\n",
    "    if os.path.isdir(r_dir+rart):\n",
    "        fp = open(r_dir+rart+\"/metadata.json\", 'r', encoding='utf-8')\n",
    "        j = json.load(fp)\n",
    "        fp.close()\n",
    "        if j['has_reviews']: \n",
    "            has_r_count += 1\n",
    "            if os.path.exists(r_dir+rart+\"/sub-articles\"):\n",
    "                if len(os.listdir(r_dir+rart+\"/sub-articles\")) == 0:\n",
    "                    print(\"Removing empty sub-a folder for\",rart)\n",
    "                    shutil.rmtree(r_dir+rart+\"/sub-articles\")\n",
    "                else:\n",
    "                    r_count+=1\n",
    "        else:\n",
    "            print(rart,\"doesnt actually have reviews?! Deleting this dir...\") \n",
    "            shutil.rmtree(r_dir+rart)"
   ]
  },
  {
   "cell_type": "code",
   "execution_count": 36,
   "metadata": {},
   "outputs": [
    {
     "name": "stdout",
     "output_type": "stream",
     "text": [
      "33976 out of 37756\n"
     ]
    }
   ],
   "source": [
    "print(r_count, \"out of\", len(os.listdir(r_dir)))"
   ]
  },
  {
   "cell_type": "code",
   "execution_count": 37,
   "metadata": {},
   "outputs": [
    {
     "data": {
      "text/plain": [
       "37755"
      ]
     },
     "execution_count": 37,
     "metadata": {},
     "output_type": "execute_result"
    }
   ],
   "source": [
    "has_r_count"
   ]
  },
  {
   "cell_type": "markdown",
   "metadata": {},
   "source": [
    "##"
   ]
  },
  {
   "cell_type": "code",
   "execution_count": 47,
   "metadata": {},
   "outputs": [],
   "source": [
    "reviewed_arts = arts[arts['meta'].map(lambda x: x['has_reviews'])] "
   ]
  },
  {
   "cell_type": "code",
   "execution_count": 61,
   "metadata": {},
   "outputs": [
    {
     "name": "stderr",
     "output_type": "stream",
     "text": [
      "C:\\Users\\acted\\AppData\\Local\\Temp\\ipykernel_17440\\2441550324.py:1: SettingWithCopyWarning: \n",
      "A value is trying to be set on a copy of a slice from a DataFrame.\n",
      "Try using .loc[row_indexer,col_indexer] = value instead\n",
      "\n",
      "See the caveats in the documentation: https://pandas.pydata.org/pandas-docs/stable/user_guide/indexing.html#returning-a-view-versus-a-copy\n",
      "  reviewed_arts['new_path'] = reviewed_arts.path.apply(lambda x: '/'.join(x.split('/')[0:2]) + '/reviewed/' + x.split('/')[2])\n"
     ]
    }
   ],
   "source": [
    "reviewed_arts['new_path'] = reviewed_arts.path.apply(lambda x: '/'.join(x.split('/')[0:2]) + '/reviewed/' + x.split('/')[2])"
   ]
  },
  {
   "cell_type": "code",
   "execution_count": 68,
   "metadata": {},
   "outputs": [
    {
     "name": "stderr",
     "output_type": "stream",
     "text": [
      "C:\\Users\\acted\\AppData\\Local\\Temp\\ipykernel_17440\\3512361509.py:1: SettingWithCopyWarning: \n",
      "A value is trying to be set on a copy of a slice from a DataFrame.\n",
      "Try using .loc[row_indexer,col_indexer] = value instead\n",
      "\n",
      "See the caveats in the documentation: https://pandas.pydata.org/pandas-docs/stable/user_guide/indexing.html#returning-a-view-versus-a-copy\n",
      "  reviewed_arts['outasd'] = reviewed_arts.apply(lambda x: shutil.copytree(x.path, x.new_path), axis=1)\n"
     ]
    }
   ],
   "source": [
    "reviewed_arts['outasd'] = reviewed_arts.apply(lambda x: shutil.copytree(x.path, x.new_path), axis=1)"
   ]
  },
  {
   "cell_type": "code",
   "execution_count": null,
   "metadata": {},
   "outputs": [],
   "source": []
  }
 ],
 "metadata": {
  "kernelspec": {
   "display_name": "Python 3.10.5 64-bit",
   "language": "python",
   "name": "python3"
  },
  "language_info": {
   "codemirror_mode": {
    "name": "ipython",
    "version": 3
   },
   "file_extension": ".py",
   "mimetype": "text/x-python",
   "name": "python",
   "nbconvert_exporter": "python",
   "pygments_lexer": "ipython3",
   "version": "3.10.5"
  },
  "orig_nbformat": 4,
  "vscode": {
   "interpreter": {
    "hash": "62b5395b2b0d012800d286877df5f744db875a09a792e1e3233d59b8a3e51004"
   }
  }
 },
 "nbformat": 4,
 "nbformat_minor": 2
}
